{
 "cells": [
  {
   "cell_type": "markdown",
   "metadata": {},
   "source": [
    "# AI Agents"
   ]
  },
  {
   "cell_type": "code",
   "execution_count": 1,
   "metadata": {},
   "outputs": [],
   "source": [
    "from groq import Groq"
   ]
  },
  {
   "cell_type": "code",
   "execution_count": 2,
   "metadata": {},
   "outputs": [],
   "source": [
    "# Initialize Groq client for Llama\n",
    "client = Groq(api_key=\"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\")  # Replace with your Groq API key"
   ]
  },
  {
   "cell_type": "markdown",
   "metadata": {},
   "source": [
    "# confident level checker"
   ]
  },
  {
   "cell_type": "code",
   "execution_count": 3,
   "metadata": {},
   "outputs": [],
   "source": [
    "\n",
    "def analyze_confidence_with_llama(user_response):\n",
    "    chat_completion = client.chat.completions.create(\n",
    "        messages=[\n",
    "            {\n",
    "                \"role\": \"user\",\n",
    "                \"content\": f\"You are an expert in analyzing spoken responses for confidence levels. \"\n",
    "                           f\"Given the following response from a user, assess their confidence:\\n\"\n",
    "                           f\"Response: '{user_response}'\\n\"\n",
    "                           \"Evaluate based on clarity, assertiveness, use of filler words, and tone strength. \"\n",
    "                           \"Provide a confidence score (0-100) and give constructive feedback on how they can improve. \"\n",
    "                           \"Output format:\\n\"\n",
    "                           \"- Confidence Score: (numeric value out of 100)\\n\"\n",
    "                           \"- Feedback: (brief analysis and improvement tips)\"\n",
    "            }\n",
    "        ],\n",
    "        model=\"llama-3.3-70b-versatile\",\n",
    "    )\n",
    "    return chat_completion.choices[0].message.content.strip()\n"
   ]
  },
  {
   "cell_type": "markdown",
   "metadata": {},
   "source": [
    "# Resume evaluater"
   ]
  },
  {
   "cell_type": "code",
   "execution_count": 4,
   "metadata": {},
   "outputs": [],
   "source": [
    "def evaluate_resume_with_llama(resume_text):\n",
    "    chat_completion = client.chat.completions.create(\n",
    "        messages=[\n",
    "            {\n",
    "                \"role\": \"user\",\n",
    "                \"content\": f\"You are an expert in resume evaluation for interview preparation. \"\n",
    "                           f\"Analyze the following resume and extract key details:\\n\"\n",
    "                           f\"Resume:\\n{resume_text}\\n\\n\"\n",
    "                           \"Identify and list the following:\\n\"\n",
    "                           \"1️⃣ **Key Skills**: Extract technical and soft skills relevant to the job market.\\n\"\n",
    "                           \"2️⃣ **Knowledge Areas**: Highlight important domains of expertise.\\n\"\n",
    "                           \"3️⃣ **Work Experience**: Summarize past roles, responsibilities, and achievements.\\n\"\n",
    "                           \"4️⃣ **Areas for Improvement**: Provide suggestions for enhancing the resume.\\n\\n\"\n",
    "                           \"Format the output as:\\n\"\n",
    "                           \"- **Key Skills**: (List of skills)\\n\"\n",
    "                           \"- **Knowledge Areas**: (Relevant domains)\\n\"\n",
    "                           \"- **Work Experience**: (Summary of roles & achievements)\\n\"\n",
    "                           \"- **Suggestions for Improvement**: (Actionable tips to refine the resume)\"\n",
    "            }\n",
    "        ],\n",
    "        model=\"llama-3.3-70b-versatile\",\n",
    "    )\n",
    "    return chat_completion.choices[0].message.content.strip()\n"
   ]
  },
  {
   "cell_type": "markdown",
   "metadata": {},
   "source": [
    "# Hr interviewer"
   ]
  },
  {
   "cell_type": "code",
   "execution_count": 5,
   "metadata": {},
   "outputs": [],
   "source": [
    "def generate_interview_questions(resume_text, job_role):\n",
    "    chat_completion = client.chat.completions.create(\n",
    "        messages=[\n",
    "            {\n",
    "                \"role\": \"user\",\n",
    "                \"content\": f\"You are an HR interviewer preparing for a job interview. \"\n",
    "                           f\"Based on the candidate's resume and the job role, generate tailored interview questions.\\n\\n\"\n",
    "                           f\"🔹 **Job Role**: {job_role}\\n\"\n",
    "                           f\"🔹 **Candidate's Resume**:\\n{resume_text}\\n\\n\"\n",
    "                           \"Ask structured questions that assess the following aspects:\\n\"\n",
    "                           \"1️⃣ **Technical Skills**: Questions to evaluate technical proficiency related to the job.\\n\"\n",
    "                           \"2️⃣ **Problem-Solving Ability**: Scenario-based or case study questions.\\n\"\n",
    "                           \"3️⃣ **Past Experience & Achievements**: Questions about the candidate’s previous roles.\\n\"\n",
    "                           \"4️⃣ **Behavioral & Soft Skills**: Situational questions based on teamwork, leadership, and communication.\\n\"\n",
    "                           \"5️⃣ **Culture Fit**: Questions to understand alignment with company values.\\n\\n\"\n",
    "                           \"you should give the questions in python list, each question as elements without inner list enclosed by square bracket.\"\n",
    "                                       }\n",
    "        ],\n",
    "        model=\"llama-3.3-70b-versatile\",\n",
    "    )\n",
    "    return chat_completion.choices[0].message.content.strip()\n"
   ]
  },
  {
   "cell_type": "code",
   "execution_count": 14,
   "metadata": {},
   "outputs": [],
   "source": [
    "def evaluate_interview_answer(hr_question, user_answer, job_role):\n",
    "    chat_completion = client.chat.completions.create(\n",
    "        messages=[\n",
    "            {\n",
    "                \"role\": \"user\",\n",
    "                \"content\": f\"You are an expert HR interviewer evaluating a candidate's response. \"\n",
    "                           f\"Assess the following answer based on relevance, clarity, confidence, and completeness.\\n\\n\"\n",
    "                           f\"🔹 **Job Role**: {job_role}\\n\"\n",
    "                           f\"🔹 **Interview Question**: {hr_question}\\n\"\n",
    "                           f\"🔹 **Candidate's Answer**: {user_answer}\\n\\n\"\n",
    "                           \"Evaluate the answer using the following criteria:\\n\"\n",
    "                           \" 1️ **Relevance**: Does the response correctly address the question?\\n\"\n",
    "                           \" 2️ **Clarity & Structure**: Is the answer well-structured and easy to understand?\\n\"\n",
    "                           \" 3️ **Confidence & Communication**: Does the response reflect confidence and professionalism?\\n\"\n",
    "                           \" 4️ **Depth & Examples**: Does the candidate provide detailed explanations or examples?\\n\\n\"\n",
    "                           \"Provide a structured output with:\\n\"\n",
    "                           \"- **Score**: (Numeric value out of 100)\\n\"\n",
    "                           \"- **Strengths**: (What was done well?)\\n\"\n",
    "                           \"- **Areas for Improvement**: (How can the candidate improve?)\"\n",
    "            }\n",
    "        ],\n",
    "        model=\"llama-3.3-70b-versatile\",\n",
    "    )\n",
    "    return chat_completion.choices[0].message.content.strip()\n"
   ]
  },
  {
   "cell_type": "code",
   "execution_count": 6,
   "metadata": {},
   "outputs": [
    {
     "name": "stdout",
     "output_type": "stream",
     "text": [
      "Collecting pymupdf\n",
      "  Downloading pymupdf-1.25.3-cp39-abi3-win_amd64.whl.metadata (3.4 kB)\n",
      "Downloading pymupdf-1.25.3-cp39-abi3-win_amd64.whl (16.5 MB)\n",
      "   ---------------------------------------- 0.0/16.5 MB ? eta -:--:--\n",
      "    --------------------------------------- 0.3/16.5 MB ? eta -:--:--\n",
      "   - -------------------------------------- 0.8/16.5 MB 2.6 MB/s eta 0:00:07\n",
      "   --- ------------------------------------ 1.3/16.5 MB 2.6 MB/s eta 0:00:06\n",
      "   --- ------------------------------------ 1.6/16.5 MB 2.5 MB/s eta 0:00:06\n",
      "   ----- ---------------------------------- 2.1/16.5 MB 2.4 MB/s eta 0:00:07\n",
      "   ------ --------------------------------- 2.9/16.5 MB 2.5 MB/s eta 0:00:06\n",
      "   -------- ------------------------------- 3.4/16.5 MB 2.4 MB/s eta 0:00:06\n",
      "   --------- ------------------------------ 3.9/16.5 MB 2.6 MB/s eta 0:00:05\n",
      "   ----------- ---------------------------- 4.7/16.5 MB 2.6 MB/s eta 0:00:05\n",
      "   ------------ --------------------------- 5.2/16.5 MB 2.7 MB/s eta 0:00:05\n",
      "   ------------ --------------------------- 5.2/16.5 MB 2.7 MB/s eta 0:00:05\n",
      "   --------------- ------------------------ 6.3/16.5 MB 2.6 MB/s eta 0:00:04\n",
      "   ---------------- ----------------------- 6.8/16.5 MB 2.6 MB/s eta 0:00:04\n",
      "   ----------------- ---------------------- 7.1/16.5 MB 2.6 MB/s eta 0:00:04\n",
      "   ------------------ --------------------- 7.6/16.5 MB 2.5 MB/s eta 0:00:04\n",
      "   ------------------- -------------------- 8.1/16.5 MB 2.5 MB/s eta 0:00:04\n",
      "   --------------------- ------------------ 8.9/16.5 MB 2.6 MB/s eta 0:00:03\n",
      "   ----------------------- ---------------- 9.7/16.5 MB 2.6 MB/s eta 0:00:03\n",
      "   ------------------------- -------------- 10.5/16.5 MB 2.7 MB/s eta 0:00:03\n",
      "   -------------------------- ------------- 11.0/16.5 MB 2.7 MB/s eta 0:00:03\n",
      "   --------------------------- ------------ 11.3/16.5 MB 2.7 MB/s eta 0:00:02\n",
      "   ---------------------------- ----------- 11.8/16.5 MB 2.6 MB/s eta 0:00:02\n",
      "   ----------------------------- ---------- 12.3/16.5 MB 2.6 MB/s eta 0:00:02\n",
      "   ------------------------------- -------- 13.1/16.5 MB 2.7 MB/s eta 0:00:02\n",
      "   -------------------------------- ------- 13.6/16.5 MB 2.7 MB/s eta 0:00:02\n",
      "   ---------------------------------- ----- 14.2/16.5 MB 2.6 MB/s eta 0:00:01\n",
      "   ----------------------------------- ---- 14.7/16.5 MB 2.7 MB/s eta 0:00:01\n",
      "   ------------------------------------ --- 15.2/16.5 MB 2.6 MB/s eta 0:00:01\n",
      "   -------------------------------------- - 15.7/16.5 MB 2.6 MB/s eta 0:00:01\n",
      "   ---------------------------------------  16.3/16.5 MB 2.6 MB/s eta 0:00:01\n",
      "   ---------------------------------------- 16.5/16.5 MB 2.6 MB/s eta 0:00:00\n",
      "Installing collected packages: pymupdf\n",
      "Successfully installed pymupdf-1.25.3\n"
     ]
    },
    {
     "name": "stderr",
     "output_type": "stream",
     "text": [
      "\n",
      "[notice] A new release of pip is available: 25.0 -> 25.0.1\n",
      "[notice] To update, run: python.exe -m pip install --upgrade pip\n"
     ]
    }
   ],
   "source": [
    "!pip install pymupdf\n"
   ]
  },
  {
   "cell_type": "code",
   "execution_count": 7,
   "metadata": {},
   "outputs": [],
   "source": [
    "import pymupdf  \n",
    "\n",
    "def extract_text_from_pdf(pdf_path):\n",
    "    doc = pymupdf.open(pdf_path)  \n",
    "    text = \"\"\n",
    "    for page in doc:\n",
    "        text += page.get_text(\"text\")\n",
    "    return text\n",
    "\n",
    "pdf_path = \"Resume.pdf\"\n",
    "pdf_text = extract_text_from_pdf(pdf_path)\n",
    "\n",
    "\n"
   ]
  },
  {
   "cell_type": "code",
   "execution_count": 15,
   "metadata": {},
   "outputs": [],
   "source": [
    "\n",
    "resume_text=pdf_text\n",
    "job_role=\"Full Stack Developer\"\n",
    "a2=evaluate_resume_with_llama(resume_text)\n",
    "a3=generate_interview_questions(resume_text, job_role)\n"
   ]
  },
  {
   "cell_type": "code",
   "execution_count": 11,
   "metadata": {},
   "outputs": [
    {
     "data": {
      "text/plain": [
       "\"['What is your experience with Python frameworks, and how have you applied them in your previous projects?', \\n'How do you approach debugging a complex issue in a Full Stack application, and what tools do you use?', \\n'Can you explain the difference between monolithic architecture and microservices architecture, and when would you choose one over the other?', \\n'How do you optimize the performance of a slow-loading webpage, and what factors do you consider when making optimizations?', \\n'Write a simple Python function to reverse a string, and explain your thought process behind it.', \\n'Tell me about a project you worked on where you had to overcome a difficult technical challenge, and how you went about solving it.', \\n'Can you describe your experience with database management systems, and how you have designed and implemented databases in your previous projects?', \\n'How do you handle conflicts or disagreements with team members when working on a collaborative project, and what strategies do you use to resolve them?', \\n'Can you walk me through your process for testing and validating the functionality of a new feature in a web application?', \\n'How do you stay current with new developments and advancements in the field of Full Stack development, and what resources do you use to learn new skills?', \\n'Can you tell me about a time when you had to communicate complex technical information to a non-technical team member or stakeholder, and how you approached the situation?', \\n'How do you prioritize and manage your work when faced with multiple competing tasks or projects with tight deadlines?', \\n'Can you describe your experience with Agile development methodologies, and how you have applied them in your previous roles?', \\n'How do you handle feedback or criticism of your code or design, and what steps do you take to implement changes and improvements?', \\n'Can you tell me about a project or initiative you led or contributed to that you are particularly proud of, and what your role was in its success?', \\n'How do you approach mentoring or guiding junior team members who are new to Full Stack development, and what advice would you give them?', \\n'Can you describe our company culture and values, and how you think your skills and experience align with them?', \\n'How do you balance the needs and priorities of different stakeholders, such as team members, managers, and customers, when working on a project?', \\n'Can you tell me about a time when you identified a process or system that could be improved, and what steps you took to implement changes and improvements?']\""
      ]
     },
     "execution_count": 11,
     "metadata": {},
     "output_type": "execute_result"
    }
   ],
   "source": [
    "a3"
   ]
  },
  {
   "cell_type": "code",
   "execution_count": 16,
   "metadata": {},
   "outputs": [
    {
     "name": "stdout",
     "output_type": "stream",
     "text": [
      "1. What are some of the most important considerations when designing a full-stack application, and how do you approach this process?\n",
      "2. Can you explain the differences between monolithic architecture and microservices architecture, and when would you use each?\n",
      "3. How do you handle errors and exceptions in your Python code, and what tools or libraries do you use for debugging?\n",
      "4. Describe a situation where you had to optimize the performance of a slow database query, and how you went about doing it\n",
      "5. Write a simple Python function to reverse a string, and explain your thought process behind it\n",
      "6. Suppose you are tasked with building a RESTful API using Flask or Django, how would you approach this, and what features would you include\n",
      "7. Can you walk me through your experience with Git, and how you handle conflicts or collaborate with team members on a project\n",
      "8. Tell me about a time when you had to learn a new programming language or framework quickly, and how you approached this challenge\n",
      "9. How do you stay up-to-date with the latest developments and advancements in the field of full-stack development, and what resources do you rely on\n",
      "10. Describe your experience with agile development methodologies, and how you contribute to sprint planning and retrospectives\n",
      "11. Can you give an example of a project you worked on where you had to communicate technical concepts to a non-technical team member or stakeholder, and how you approached this\n",
      "12. Suppose you are working on a team project, and one of your teammates is not pulling their weight, how would you handle this situation\n",
      "13. Tell me about a time when you received feedback or criticism on your code, and how you used this to improve your skills\n",
      "14. Can you describe your experience withpair programming, and how you think it can be beneficial for team collaboration and knowledge sharing\n",
      "15. Suppose you are tasked with refactoring a large and complex codebase, where would you start, and what steps would you take to ensure a smooth transition\n",
      "16. Can you walk me through your process for testing and validating your code, and what tools or frameworks you use for this purpose\n",
      "17. Tell me about a project or contribution you're particularly proud of, and what you learned from the experience\n",
      "18. Describe your experience with continuous integration and continuous deployment, and how you think it can improve the development workflow\n",
      "19. Suppose you are working on a project with a tight deadline, and you realize that you won't be able to deliver all the features as promised, how would you handle this situation\n",
      "20. Can you give an example of a time when you had to make a difficult technical decision, and how you approached this\n",
      "21. Tell me about your experience with code reviews, and how you think they can be used to improve code quality and share knowledge within a team\n"
     ]
    }
   ],
   "source": [
    "import ast\n",
    "\n",
    "text = a3\n",
    "start_index = text.find(\"[\")\n",
    "end_index = text.rfind(\"]\") + 1\n",
    "list_str = text[start_index:end_index]\n",
    "\n",
    "\n",
    "question_list = ast.literal_eval(list_str)\n",
    "\n",
    "\n",
    "for i, question in enumerate(question_list, 1):\n",
    "    print(f\"{i}. {question}\")\n"
   ]
  },
  {
   "cell_type": "code",
   "execution_count": 17,
   "metadata": {},
   "outputs": [
    {
     "name": "stdout",
     "output_type": "stream",
     "text": [
      "Tell me about your experience with code reviews, and how you think they can be used to improve code quality and share knowledge within a team\n",
      "**Evaluation of Candidate's Response**\n",
      "\n",
      "- **Score**: 0\n",
      "- **Strengths**: None\n",
      "- **Areas for Improvement**:\n",
      "  1. **Relevance**: The candidate's response does not address the question about code reviews and their role in improving code quality and sharing knowledge within a team. The response seems to be a personal introduction rather than an answer to the question.\n",
      "  2. **Clarity & Structure**: The answer lacks any structure or clarity. It does not provide any meaningful information related to the question.\n",
      "  3. **Confidence & Communication**: The response does not reflect confidence or professionalism. It appears to be a casual and unprepared introduction.\n",
      "  4. **Depth & Examples**: There are no explanations or examples provided to support any points related to code reviews.\n",
      "\n",
      "**Recommendation for Improvement**:\n",
      "To improve, the candidate should:\n",
      "- Ensure their response directly addresses the question asked.\n",
      "- Organize their thoughts into a clear and structured answer.\n",
      "- Demonstrate confidence and professionalism in their communication.\n",
      "- Provide detailed explanations and examples to support their points, especially when discussing technical topics like code reviews. \n",
      "\n",
      "For this question, a more appropriate response might include:\n",
      "- An introduction to their experience with code reviews.\n",
      "- An explanation of how code reviews can improve code quality (e.g., by catching bugs, improving readability, and adhering to standards).\n",
      "- Discussion on how code reviews facilitate knowledge sharing within a team (e.g., through feedback, learning from others' approaches, and standardizing practices).\n",
      "- Examples from their own experience, highlighting successes or challenges and what they learned from them.\n",
      "- Confidence Score: 40\n",
      "- Feedback: The response 'i am uvarajan' lacks clarity and assertiveness, as it is written in lowercase and does not provide any additional information about the user. The absence of filler words is a positive aspect, but the overall tone strength is weak due to the informal writing style. To improve, the user could capitalize the first letter of their name and the first person pronoun 'I', and consider adding more context or details about themselves to sound more confident and clear. For example, \"I am Uvarajan, nice to meet you.\" This would help project a stronger tone and more assertive introduction.\n",
      "Can you give an example of a time when you had to make a difficult technical decision, and how you approached this\n"
     ]
    },
    {
     "ename": "KeyboardInterrupt",
     "evalue": "Interrupted by user",
     "output_type": "error",
     "traceback": [
      "\u001b[1;31m---------------------------------------------------------------------------\u001b[0m",
      "\u001b[1;31mKeyboardInterrupt\u001b[0m                         Traceback (most recent call last)",
      "Cell \u001b[1;32mIn[17], line 7\u001b[0m\n\u001b[0;32m      5\u001b[0m hr_question\u001b[38;5;241m=\u001b[39mquestion_list[iterate]\n\u001b[0;32m      6\u001b[0m \u001b[38;5;28mprint\u001b[39m(hr_question)\n\u001b[1;32m----> 7\u001b[0m user_answer\u001b[38;5;241m=\u001b[39m\u001b[38;5;28;43minput\u001b[39;49m\u001b[43m(\u001b[49m\u001b[43m)\u001b[49m\n\u001b[0;32m      8\u001b[0m a1\u001b[38;5;241m=\u001b[39m analyze_confidence_with_llama(user_answer)\n\u001b[0;32m      9\u001b[0m a4 \u001b[38;5;241m=\u001b[39m evaluate_interview_answer(hr_question, user_answer, job_role)\n",
      "File \u001b[1;32mc:\\Users\\yvarajan\\AppData\\Local\\Programs\\Python\\Python311\\Lib\\site-packages\\ipykernel\\kernelbase.py:1282\u001b[0m, in \u001b[0;36mKernel.raw_input\u001b[1;34m(self, prompt)\u001b[0m\n\u001b[0;32m   1280\u001b[0m     msg \u001b[38;5;241m=\u001b[39m \u001b[38;5;124m\"\u001b[39m\u001b[38;5;124mraw_input was called, but this frontend does not support input requests.\u001b[39m\u001b[38;5;124m\"\u001b[39m\n\u001b[0;32m   1281\u001b[0m     \u001b[38;5;28;01mraise\u001b[39;00m StdinNotImplementedError(msg)\n\u001b[1;32m-> 1282\u001b[0m \u001b[38;5;28;01mreturn\u001b[39;00m \u001b[38;5;28;43mself\u001b[39;49m\u001b[38;5;241;43m.\u001b[39;49m\u001b[43m_input_request\u001b[49m\u001b[43m(\u001b[49m\n\u001b[0;32m   1283\u001b[0m \u001b[43m    \u001b[49m\u001b[38;5;28;43mstr\u001b[39;49m\u001b[43m(\u001b[49m\u001b[43mprompt\u001b[49m\u001b[43m)\u001b[49m\u001b[43m,\u001b[49m\n\u001b[0;32m   1284\u001b[0m \u001b[43m    \u001b[49m\u001b[38;5;28;43mself\u001b[39;49m\u001b[38;5;241;43m.\u001b[39;49m\u001b[43m_parent_ident\u001b[49m\u001b[43m[\u001b[49m\u001b[38;5;124;43m\"\u001b[39;49m\u001b[38;5;124;43mshell\u001b[39;49m\u001b[38;5;124;43m\"\u001b[39;49m\u001b[43m]\u001b[49m\u001b[43m,\u001b[49m\n\u001b[0;32m   1285\u001b[0m \u001b[43m    \u001b[49m\u001b[38;5;28;43mself\u001b[39;49m\u001b[38;5;241;43m.\u001b[39;49m\u001b[43mget_parent\u001b[49m\u001b[43m(\u001b[49m\u001b[38;5;124;43m\"\u001b[39;49m\u001b[38;5;124;43mshell\u001b[39;49m\u001b[38;5;124;43m\"\u001b[39;49m\u001b[43m)\u001b[49m\u001b[43m,\u001b[49m\n\u001b[0;32m   1286\u001b[0m \u001b[43m    \u001b[49m\u001b[43mpassword\u001b[49m\u001b[38;5;241;43m=\u001b[39;49m\u001b[38;5;28;43;01mFalse\u001b[39;49;00m\u001b[43m,\u001b[49m\n\u001b[0;32m   1287\u001b[0m \u001b[43m\u001b[49m\u001b[43m)\u001b[49m\n",
      "File \u001b[1;32mc:\\Users\\yvarajan\\AppData\\Local\\Programs\\Python\\Python311\\Lib\\site-packages\\ipykernel\\kernelbase.py:1325\u001b[0m, in \u001b[0;36mKernel._input_request\u001b[1;34m(self, prompt, ident, parent, password)\u001b[0m\n\u001b[0;32m   1322\u001b[0m \u001b[38;5;28;01mexcept\u001b[39;00m \u001b[38;5;167;01mKeyboardInterrupt\u001b[39;00m:\n\u001b[0;32m   1323\u001b[0m     \u001b[38;5;66;03m# re-raise KeyboardInterrupt, to truncate traceback\u001b[39;00m\n\u001b[0;32m   1324\u001b[0m     msg \u001b[38;5;241m=\u001b[39m \u001b[38;5;124m\"\u001b[39m\u001b[38;5;124mInterrupted by user\u001b[39m\u001b[38;5;124m\"\u001b[39m\n\u001b[1;32m-> 1325\u001b[0m     \u001b[38;5;28;01mraise\u001b[39;00m \u001b[38;5;167;01mKeyboardInterrupt\u001b[39;00m(msg) \u001b[38;5;28;01mfrom\u001b[39;00m \u001b[38;5;28;01mNone\u001b[39;00m\n\u001b[0;32m   1326\u001b[0m \u001b[38;5;28;01mexcept\u001b[39;00m \u001b[38;5;167;01mException\u001b[39;00m:\n\u001b[0;32m   1327\u001b[0m     \u001b[38;5;28mself\u001b[39m\u001b[38;5;241m.\u001b[39mlog\u001b[38;5;241m.\u001b[39mwarning(\u001b[38;5;124m\"\u001b[39m\u001b[38;5;124mInvalid Message:\u001b[39m\u001b[38;5;124m\"\u001b[39m, exc_info\u001b[38;5;241m=\u001b[39m\u001b[38;5;28;01mTrue\u001b[39;00m)\n",
      "\u001b[1;31mKeyboardInterrupt\u001b[0m: Interrupted by user"
     ]
    }
   ],
   "source": [
    "question_queu=len(question_list)\n",
    "\n",
    "iterate=question_queu-1\n",
    "while(iterate!=0):\n",
    "    hr_question=question_list[iterate]\n",
    "    print(hr_question)\n",
    "    user_answer=input()\n",
    "    a1= analyze_confidence_with_llama(user_answer)\n",
    "    a4 = evaluate_interview_answer(hr_question, user_answer, job_role)\n",
    "    print(a4)\n",
    "    print(a1)\n",
    "    iterate-=1\n",
    "\n"
   ]
  },
  {
   "cell_type": "code",
   "execution_count": null,
   "metadata": {},
   "outputs": [],
   "source": []
  },
  {
   "cell_type": "code",
   "execution_count": null,
   "metadata": {},
   "outputs": [],
   "source": []
  }
 ],
 "metadata": {
  "kernelspec": {
   "display_name": "Python 3",
   "language": "python",
   "name": "python3"
  },
  "language_info": {
   "codemirror_mode": {
    "name": "ipython",
    "version": 3
   },
   "file_extension": ".py",
   "mimetype": "text/x-python",
   "name": "python",
   "nbconvert_exporter": "python",
   "pygments_lexer": "ipython3",
   "version": "3.11.9"
  }
 },
 "nbformat": 4,
 "nbformat_minor": 2
}
